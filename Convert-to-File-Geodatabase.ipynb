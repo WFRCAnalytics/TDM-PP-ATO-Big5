{
 "cells": [
  {
   "cell_type": "code",
   "execution_count": 1,
   "id": "77b4a9e0",
   "metadata": {},
   "outputs": [
    {
     "name": "stdout",
     "output_type": "stream",
     "text": [
      "✅ Created GDB: output\\BIG5_AccessToJobs_Metric.gdb\n",
      "✅ Imported GeoJSON to GDB feature class: AccessToJobs\n"
     ]
    }
   ],
   "source": [
    "import arcpy\n",
    "import os\n",
    "import zipfile\n",
    "\n",
    "# === USER SETTINGS ===\n",
    "geojson_path = r\"output\\BIG5_AccessToJobs_Metric.geojson\"       # Input\n",
    "gdb_dir = \"output\"                                              # Folder to create GDB in\n",
    "gdb_name = \"BIG5_AccessToJobs_Metric.gdb\"                       # GDB name\n",
    "feature_class_name = \"AccessToJobs\"                             # FC name inside GDB\n",
    "zip_path = \"BIG5_AccessToJobs_Metric.gdb.zip\"                   # Optional zip name\n",
    "\n",
    "# === CREATE FILE GEODATABASE ===\n",
    "gdb_path = os.path.join(gdb_dir, gdb_name)\n",
    "\n",
    "# Delete if exists (optional safety)\n",
    "if arcpy.Exists(gdb_path):\n",
    "    arcpy.management.Delete(gdb_path)\n",
    "\n",
    "arcpy.management.CreateFileGDB(out_folder_path=gdb_dir, out_name=gdb_name)\n",
    "print(f\"✅ Created GDB: {gdb_path}\")\n",
    "\n",
    "# === CONVERT GEOJSON TO GDB ===\n",
    "arcpy.conversion.JSONToFeatures(\n",
    "    in_json_file=geojson_path,\n",
    "    out_features=os.path.join(gdb_path, feature_class_name)\n",
    ")\n",
    "\n",
    "print(f\"✅ Imported GeoJSON to GDB feature class: {feature_class_name}\")"
   ]
  }
 ],
 "metadata": {
  "kernelspec": {
   "display_name": "Python 3",
   "language": "python",
   "name": "python3"
  },
  "language_info": {
   "codemirror_mode": {
    "name": "ipython",
    "version": 3
   },
   "file_extension": ".py",
   "mimetype": "text/x-python",
   "name": "python",
   "nbconvert_exporter": "python",
   "pygments_lexer": "ipython3",
   "version": "3.11.11"
  }
 },
 "nbformat": 4,
 "nbformat_minor": 5
}
